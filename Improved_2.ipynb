{
  "cells": [
    {
      "cell_type": "code",
      "execution_count": null,
      "metadata": {
        "id": "O2scxm3yGgpI"
      },
      "outputs": [],
      "source": [
        "import numpy as np\n",
        "import pandas as pd\n",
        "from sklearn.model_selection import train_test_split\n",
        "import matplotlib.pyplot as plt\n",
        "from keras.models import Sequential\n",
        "from keras.layers import Conv2D,Dense,Flatten,Dropout,MaxPooling2D\n",
        "from keras.optimizers import Adam\n",
        "from tensorflow.keras.utils import plot_model\n",
        "from tensorflow.keras import layers\n",
        "import matplotlib.pyplot as plt\n"
      ]
    },
    {
      "cell_type": "code",
      "execution_count": null,
      "metadata": {
        "id": "tom2GBLTHNjP"
      },
      "outputs": [],
      "source": [
        "train_df = pd.read_csv('fashion-mnist_train.csv')\n",
        "test_df = pd.read_csv('fashion-mnist_test.csv')"
      ]
    },
    {
      "cell_type": "code",
      "execution_count": null,
      "metadata": {
        "id": "rIbELrC7HP40"
      },
      "outputs": [],
      "source": [
        "train_df.head()"
      ]
    },
    {
      "cell_type": "code",
      "execution_count": null,
      "metadata": {
        "id": "GW9YZjLKHRcc"
      },
      "outputs": [],
      "source": [
        "train_data = np.asarray(train_df,dtype=np.float32)\n",
        "test_data = np.asarray(test_df,dtype=np.float32)\n",
        "x_train = train_data[:,1:]/255\n",
        "y_train = train_data[:,0]\n",
        "x_test = test_data[:,1:]/255\n",
        "y_test = test_data[:,0]"
      ]
    },
    {
      "cell_type": "code",
      "execution_count": null,
      "metadata": {
        "id": "z0SWuxYlHVWQ"
      },
      "outputs": [],
      "source": [
        "x_train,x_val,y_train,y_val = train_test_split(x_train,y_train,test_size=.25,random_state=2345)"
      ]
    },
    {
      "cell_type": "code",
      "execution_count": null,
      "metadata": {
        "id": "-Vz8xOAWHWw7"
      },
      "outputs": [],
      "source": [
        "class_names = ['T_shirt/top', 'Trouser', 'Pullover', 'Dress', 'Coat', 'Sandal', 'Shirt', 'Sneaker', 'Bag', 'Ankle boot']\n",
        "plt.figure(figsize=(10,10))\n",
        "\n",
        "for i in range(100):\n",
        "    plt.subplot(10,10,i+1)\n",
        "    plt.imshow(x_train[i].reshape(28,28))\n",
        "    plt.title(class_names[int(y_train[i])])\n",
        "    plt.axis('off')\n",
        "plt.subplots_adjust(hspace=.7,wspace=0.8)\n",
        "plt.show()"
      ]
    },
    {
      "cell_type": "code",
      "execution_count": null,
      "metadata": {
        "id": "jpHbtmIxHc4J"
      },
      "outputs": [],
      "source": [
        "x_train = x_train.reshape(x_train.shape[0],28,28,1)\n",
        "x_test = x_test.reshape(x_test.shape[0],28,28,1)\n",
        "x_val = x_val.reshape(x_val.shape[0],28,28,1)\n",
        "x_train.shape"
      ]
    },
    {
      "cell_type": "code",
      "execution_count": null,
      "metadata": {
        "id": "aucGWdimHgxf"
      },
      "outputs": [],
      "source": [
        "# Data augmentation\n",
        "data_augmentation = Sequential([\n",
        "    layers.experimental.preprocessing.RandomRotation(0.1),\n",
        "    layers.experimental.preprocessing.RandomZoom(0.1),\n",
        "    layers.experimental.preprocessing.RandomFlip(\"horizontal\")\n",
        "])"
      ]
    },
    {
      "cell_type": "code",
      "execution_count": null,
      "metadata": {
        "id": "u64ke3caIMh1"
      },
      "outputs": [],
      "source": [
        "from tensorflow.keras.models import Sequential\n",
        "from tensorflow.keras.layers import Conv2D, MaxPooling2D, Flatten, Dense, Dropout, BatchNormalization\n",
        "from tensorflow.keras.preprocessing.image import ImageDataGenerator\n",
        "from tensorflow.keras.regularizers import l2\n",
        "from tensorflow.keras.optimizers import Adam\n",
        "\n",
        "# Data augmentation\n",
        "datagen = ImageDataGenerator(\n",
        "    rotation_range=10,\n",
        "    width_shift_range=0.1,\n",
        "    height_shift_range=0.1,\n",
        "    horizontal_flip=True,\n",
        "    validation_split=0.2\n",
        ")\n",
        "\n",
        "# Model architecture\n",
        "model = Sequential([\n",
        "    Conv2D(32, (3,3), activation='relu', input_shape=(28,28,1)),\n",
        "    BatchNormalization(),\n",
        "    Conv2D(64, (3,3), activation='relu'),\n",
        "    BatchNormalization(),\n",
        "    Conv2D(128, (3,3), activation='relu'),\n",
        "    BatchNormalization(),\n",
        "    Conv2D(256, (3,3), activation='relu'),\n",
        "    BatchNormalization(),\n",
        "    Flatten(),\n",
        "    Dense(256, activation='relu', kernel_regularizer=l2(0.001)),\n",
        "    Dropout(0.5),\n",
        "    Dense(10, activation='softmax')\n",
        "])"
      ]
    },
    {
      "cell_type": "code",
      "execution_count": null,
      "metadata": {
        "id": "7tHz3LstIwrG"
      },
      "outputs": [],
      "source": [
        "# Build the model\n",
        "model.build(input_shape=(None, 28, 28, 1))"
      ]
    },
    {
      "cell_type": "code",
      "execution_count": null,
      "metadata": {
        "id": "mHtUyMhbIVrF"
      },
      "outputs": [],
      "source": [
        "plot_model(model,show_shapes=True,show_layer_names=True,show_layer_activations=True)"
      ]
    },
    {
      "cell_type": "code",
      "execution_count": null,
      "metadata": {
        "id": "CoFBQl-wJXfG"
      },
      "outputs": [],
      "source": [
        "model.compile(loss='sparse_categorical_crossentropy',optimizer=Adam(learning_rate=0.0005),metrics=['accuracy'])"
      ]
    },
    {
      "cell_type": "code",
      "execution_count": null,
      "metadata": {
        "colab": {
          "background_save": true,
          "base_uri": "https://localhost:8080/"
        },
        "id": "Lzhrco_nJZnh",
        "outputId": "98482135-73f3-41ae-fd31-740b6ae4554c"
      },
      "outputs": [
        {
          "name": "stdout",
          "output_type": "stream",
          "text": [
            "Epoch 1/120\n",
            "40/40 [==============================] - 105s 3s/step - loss: nan - accuracy: 0.1341 - val_loss: nan - val_accuracy: 0.0955\n",
            "Epoch 2/120\n",
            "40/40 [==============================] - 99s 2s/step - loss: nan - accuracy: 0.1036 - val_loss: nan - val_accuracy: 0.0955\n",
            "Epoch 3/120\n",
            "40/40 [==============================] - 92s 2s/step - loss: nan - accuracy: 0.1036 - val_loss: nan - val_accuracy: 0.0955\n",
            "Epoch 4/120\n",
            "40/40 [==============================] - 98s 2s/step - loss: nan - accuracy: 0.1036 - val_loss: nan - val_accuracy: 0.0955\n",
            "Epoch 5/120\n",
            "40/40 [==============================] - 93s 2s/step - loss: nan - accuracy: 0.1036 - val_loss: nan - val_accuracy: 0.0955\n",
            "Epoch 6/120\n",
            "40/40 [==============================] - 92s 2s/step - loss: nan - accuracy: 0.1036 - val_loss: nan - val_accuracy: 0.0955\n",
            "Epoch 7/120\n",
            "40/40 [==============================] - 92s 2s/step - loss: nan - accuracy: 0.1036 - val_loss: nan - val_accuracy: 0.0955\n",
            "Epoch 8/120\n",
            "40/40 [==============================] - 93s 2s/step - loss: nan - accuracy: 0.1036 - val_loss: nan - val_accuracy: 0.0955\n",
            "Epoch 9/120\n",
            "40/40 [==============================] - 102s 3s/step - loss: nan - accuracy: 0.1036 - val_loss: nan - val_accuracy: 0.0955\n",
            "Epoch 10/120\n",
            "40/40 [==============================] - 99s 2s/step - loss: nan - accuracy: 0.1036 - val_loss: nan - val_accuracy: 0.0955\n",
            "Epoch 11/120\n",
            "40/40 [==============================] - 96s 2s/step - loss: nan - accuracy: 0.1036 - val_loss: nan - val_accuracy: 0.0955\n",
            "Epoch 12/120\n",
            "40/40 [==============================] - 100s 2s/step - loss: nan - accuracy: 0.1036 - val_loss: nan - val_accuracy: 0.0955\n",
            "Epoch 13/120\n",
            "40/40 [==============================] - 95s 2s/step - loss: nan - accuracy: 0.1036 - val_loss: nan - val_accuracy: 0.0955\n",
            "Epoch 14/120\n",
            "40/40 [==============================] - 99s 2s/step - loss: nan - accuracy: 0.1036 - val_loss: nan - val_accuracy: 0.0955\n",
            "Epoch 15/120\n",
            "40/40 [==============================] - 95s 2s/step - loss: nan - accuracy: 0.1036 - val_loss: nan - val_accuracy: 0.0955\n",
            "Epoch 16/120\n",
            "40/40 [==============================] - 94s 2s/step - loss: nan - accuracy: 0.1036 - val_loss: nan - val_accuracy: 0.0955\n",
            "Epoch 17/120\n",
            "40/40 [==============================] - 98s 2s/step - loss: nan - accuracy: 0.1036 - val_loss: nan - val_accuracy: 0.0955\n",
            "Epoch 18/120\n",
            "40/40 [==============================] - 96s 2s/step - loss: nan - accuracy: 0.1036 - val_loss: nan - val_accuracy: 0.0955\n",
            "Epoch 19/120\n",
            "40/40 [==============================] - 95s 2s/step - loss: nan - accuracy: 0.1036 - val_loss: nan - val_accuracy: 0.0955\n",
            "Epoch 20/120\n",
            "40/40 [==============================] - 96s 2s/step - loss: nan - accuracy: 0.1036 - val_loss: nan - val_accuracy: 0.0955\n",
            "Epoch 21/120\n",
            "40/40 [==============================] - 94s 2s/step - loss: nan - accuracy: 0.1036 - val_loss: nan - val_accuracy: 0.0955\n",
            "Epoch 22/120\n",
            "40/40 [==============================] - 99s 2s/step - loss: nan - accuracy: 0.1036 - val_loss: nan - val_accuracy: 0.0955\n",
            "Epoch 23/120\n",
            "40/40 [==============================] - 94s 2s/step - loss: nan - accuracy: 0.1036 - val_loss: nan - val_accuracy: 0.0955\n",
            "Epoch 24/120\n",
            "40/40 [==============================] - 96s 2s/step - loss: nan - accuracy: 0.1036 - val_loss: nan - val_accuracy: 0.0955\n",
            "Epoch 25/120\n",
            "40/40 [==============================] - 100s 2s/step - loss: nan - accuracy: 0.1036 - val_loss: nan - val_accuracy: 0.0955\n",
            "Epoch 26/120\n",
            "40/40 [==============================] - 96s 2s/step - loss: nan - accuracy: 0.1036 - val_loss: nan - val_accuracy: 0.0955\n",
            "Epoch 27/120\n",
            "40/40 [==============================] - 95s 2s/step - loss: nan - accuracy: 0.1036 - val_loss: nan - val_accuracy: 0.0955\n",
            "Epoch 28/120\n",
            "40/40 [==============================] - 93s 2s/step - loss: nan - accuracy: 0.1036 - val_loss: nan - val_accuracy: 0.0955\n",
            "Epoch 29/120\n",
            "40/40 [==============================] - 95s 2s/step - loss: nan - accuracy: 0.1036 - val_loss: nan - val_accuracy: 0.0955\n",
            "Epoch 30/120\n",
            "40/40 [==============================] - 95s 2s/step - loss: nan - accuracy: 0.1036 - val_loss: nan - val_accuracy: 0.0955\n",
            "Epoch 31/120\n",
            "40/40 [==============================] - 94s 2s/step - loss: nan - accuracy: 0.1036 - val_loss: nan - val_accuracy: 0.0955\n",
            "Epoch 32/120\n",
            "40/40 [==============================] - 93s 2s/step - loss: nan - accuracy: 0.1036 - val_loss: nan - val_accuracy: 0.0955\n",
            "Epoch 33/120\n",
            "40/40 [==============================] - 95s 2s/step - loss: nan - accuracy: 0.1036 - val_loss: nan - val_accuracy: 0.0955\n",
            "Epoch 34/120\n",
            "40/40 [==============================] - 96s 2s/step - loss: nan - accuracy: 0.1036 - val_loss: nan - val_accuracy: 0.0955\n",
            "Epoch 35/120\n",
            "40/40 [==============================] - 94s 2s/step - loss: nan - accuracy: 0.1036 - val_loss: nan - val_accuracy: 0.0955\n",
            "Epoch 36/120\n",
            "40/40 [==============================] - 94s 2s/step - loss: nan - accuracy: 0.1036 - val_loss: nan - val_accuracy: 0.0955\n",
            "Epoch 37/120\n",
            "40/40 [==============================] - 99s 2s/step - loss: nan - accuracy: 0.1036 - val_loss: nan - val_accuracy: 0.0955\n",
            "Epoch 38/120\n",
            "40/40 [==============================] - 94s 2s/step - loss: nan - accuracy: 0.1036 - val_loss: nan - val_accuracy: 0.0955\n",
            "Epoch 39/120\n",
            "40/40 [==============================] - 98s 2s/step - loss: nan - accuracy: 0.1036 - val_loss: nan - val_accuracy: 0.0955\n",
            "Epoch 40/120\n",
            "40/40 [==============================] - 94s 2s/step - loss: nan - accuracy: 0.1036 - val_loss: nan - val_accuracy: 0.0955\n",
            "Epoch 41/120\n",
            "40/40 [==============================] - 94s 2s/step - loss: nan - accuracy: 0.1036 - val_loss: nan - val_accuracy: 0.0955\n",
            "Epoch 42/120\n",
            "40/40 [==============================] - 101s 2s/step - loss: nan - accuracy: 0.1036 - val_loss: nan - val_accuracy: 0.0955\n",
            "Epoch 43/120\n",
            "40/40 [==============================] - 94s 2s/step - loss: nan - accuracy: 0.1036 - val_loss: nan - val_accuracy: 0.0955\n",
            "Epoch 44/120\n",
            "40/40 [==============================] - 94s 2s/step - loss: nan - accuracy: 0.1036 - val_loss: nan - val_accuracy: 0.0955\n",
            "Epoch 45/120\n",
            "40/40 [==============================] - 99s 2s/step - loss: nan - accuracy: 0.1036 - val_loss: nan - val_accuracy: 0.0955\n",
            "Epoch 46/120\n",
            "40/40 [==============================] - 94s 2s/step - loss: nan - accuracy: 0.1036 - val_loss: nan - val_accuracy: 0.0955\n",
            "Epoch 47/120\n",
            "40/40 [==============================] - 93s 2s/step - loss: nan - accuracy: 0.1036 - val_loss: nan - val_accuracy: 0.0955\n",
            "Epoch 48/120\n",
            "40/40 [==============================] - 99s 2s/step - loss: nan - accuracy: 0.1036 - val_loss: nan - val_accuracy: 0.0955\n",
            "Epoch 49/120\n",
            "40/40 [==============================] - 95s 2s/step - loss: nan - accuracy: 0.1036 - val_loss: nan - val_accuracy: 0.0955\n",
            "Epoch 50/120\n",
            "40/40 [==============================] - 93s 2s/step - loss: nan - accuracy: 0.1036 - val_loss: nan - val_accuracy: 0.0955\n",
            "Epoch 51/120\n",
            "40/40 [==============================] - 98s 2s/step - loss: nan - accuracy: 0.1036 - val_loss: nan - val_accuracy: 0.0955\n",
            "Epoch 52/120\n",
            "40/40 [==============================] - 93s 2s/step - loss: nan - accuracy: 0.1036 - val_loss: nan - val_accuracy: 0.0955\n",
            "Epoch 53/120\n",
            "40/40 [==============================] - 100s 2s/step - loss: nan - accuracy: 0.1036 - val_loss: nan - val_accuracy: 0.0955\n",
            "Epoch 54/120\n",
            "40/40 [==============================] - 93s 2s/step - loss: nan - accuracy: 0.1036 - val_loss: nan - val_accuracy: 0.0955\n",
            "Epoch 55/120\n",
            "40/40 [==============================] - 95s 2s/step - loss: nan - accuracy: 0.1036 - val_loss: nan - val_accuracy: 0.0955\n",
            "Epoch 56/120\n",
            "40/40 [==============================] - 93s 2s/step - loss: nan - accuracy: 0.1036 - val_loss: nan - val_accuracy: 0.0955\n",
            "Epoch 57/120\n",
            "40/40 [==============================] - 98s 2s/step - loss: nan - accuracy: 0.1036 - val_loss: nan - val_accuracy: 0.0955\n",
            "Epoch 58/120\n",
            "40/40 [==============================] - 94s 2s/step - loss: nan - accuracy: 0.1036 - val_loss: nan - val_accuracy: 0.0955\n",
            "Epoch 59/120\n",
            "40/40 [==============================] - 95s 2s/step - loss: nan - accuracy: 0.1036 - val_loss: nan - val_accuracy: 0.0955\n",
            "Epoch 60/120\n",
            "40/40 [==============================] - 94s 2s/step - loss: nan - accuracy: 0.1036 - val_loss: nan - val_accuracy: 0.0955\n",
            "Epoch 61/120\n",
            "40/40 [==============================] - 93s 2s/step - loss: nan - accuracy: 0.1036 - val_loss: nan - val_accuracy: 0.0955\n",
            "Epoch 62/120\n",
            "40/40 [==============================] - 94s 2s/step - loss: nan - accuracy: 0.1036 - val_loss: nan - val_accuracy: 0.0955\n",
            "Epoch 63/120\n",
            "40/40 [==============================] - 96s 2s/step - loss: nan - accuracy: 0.1036 - val_loss: nan - val_accuracy: 0.0955\n",
            "Epoch 64/120\n",
            "40/40 [==============================] - 96s 2s/step - loss: nan - accuracy: 0.1036 - val_loss: nan - val_accuracy: 0.0955\n",
            "Epoch 65/120\n",
            "40/40 [==============================] - 96s 2s/step - loss: nan - accuracy: 0.1036 - val_loss: nan - val_accuracy: 0.0955\n",
            "Epoch 66/120\n",
            "40/40 [==============================] - 95s 2s/step - loss: nan - accuracy: 0.1036 - val_loss: nan - val_accuracy: 0.0955\n",
            "Epoch 67/120\n",
            "40/40 [==============================] - 96s 2s/step - loss: nan - accuracy: 0.1036 - val_loss: nan - val_accuracy: 0.0955\n",
            "Epoch 68/120\n",
            "40/40 [==============================] - 96s 2s/step - loss: nan - accuracy: 0.1036 - val_loss: nan - val_accuracy: 0.0955\n",
            "Epoch 69/120\n",
            "40/40 [==============================] - 89s 2s/step - loss: nan - accuracy: 0.1036 - val_loss: nan - val_accuracy: 0.0955\n",
            "Epoch 70/120\n",
            "40/40 [==============================] - 91s 2s/step - loss: nan - accuracy: 0.1036 - val_loss: nan - val_accuracy: 0.0955\n",
            "Epoch 71/120\n",
            "40/40 [==============================] - 90s 2s/step - loss: nan - accuracy: 0.1036 - val_loss: nan - val_accuracy: 0.0955\n",
            "Epoch 72/120\n",
            "40/40 [==============================] - 96s 2s/step - loss: nan - accuracy: 0.1036 - val_loss: nan - val_accuracy: 0.0955\n",
            "Epoch 73/120\n",
            "40/40 [==============================] - 90s 2s/step - loss: nan - accuracy: 0.1036 - val_loss: nan - val_accuracy: 0.0955\n",
            "Epoch 74/120\n",
            "40/40 [==============================] - 92s 2s/step - loss: nan - accuracy: 0.1036 - val_loss: nan - val_accuracy: 0.0955\n",
            "Epoch 75/120\n",
            "40/40 [==============================] - 89s 2s/step - loss: nan - accuracy: 0.1036 - val_loss: nan - val_accuracy: 0.0955\n",
            "Epoch 76/120\n",
            "40/40 [==============================] - 91s 2s/step - loss: nan - accuracy: 0.1036 - val_loss: nan - val_accuracy: 0.0955\n",
            "Epoch 77/120\n",
            "40/40 [==============================] - 96s 2s/step - loss: nan - accuracy: 0.1036 - val_loss: nan - val_accuracy: 0.0955\n",
            "Epoch 78/120\n",
            "40/40 [==============================] - 91s 2s/step - loss: nan - accuracy: 0.1036 - val_loss: nan - val_accuracy: 0.0955\n",
            "Epoch 79/120\n",
            "40/40 [==============================] - 90s 2s/step - loss: nan - accuracy: 0.1036 - val_loss: nan - val_accuracy: 0.0955\n",
            "Epoch 80/120\n",
            "40/40 [==============================] - 90s 2s/step - loss: nan - accuracy: 0.1036 - val_loss: nan - val_accuracy: 0.0955\n",
            "Epoch 81/120\n",
            "40/40 [==============================] - 90s 2s/step - loss: nan - accuracy: 0.1036 - val_loss: nan - val_accuracy: 0.0955\n",
            "Epoch 82/120\n",
            "40/40 [==============================] - 96s 2s/step - loss: nan - accuracy: 0.1036 - val_loss: nan - val_accuracy: 0.0955\n",
            "Epoch 83/120\n",
            "35/40 [=========================>....] - ETA: 10s - loss: nan - accuracy: 0.1006"
          ]
        }
      ],
      "source": [
        "# Fit the model with augmented data\n",
        "train_generator = datagen.flow(x_train, y_train, batch_size=64, subset='training')\n",
        "val_generator = datagen.flow(x_train, y_train, batch_size=64, subset='validation')\n",
        "hist = model.fit(train_generator, epochs=120, validation_data=val_generator, verbose=1)"
      ]
    },
    {
      "cell_type": "code",
      "execution_count": null,
      "metadata": {
        "id": "BRICkBLoJegE"
      },
      "outputs": [],
      "source": [
        "plt.figure(figsize=(10,10))\n",
        "plt.subplot(221)\n",
        "plt.plot(hist.history['loss'],label='loss')\n",
        "plt.plot(hist.history['val_loss'],label='val_loss')\n",
        "plt.legend()\n",
        "\n",
        "plt.subplot(222)\n",
        "plt.plot(hist.history['accuracy'],label='train_accuracy')\n",
        "plt.plot(hist.history['val_accuracy'],label='val_accuracy')\n",
        "plt.legend()"
      ]
    },
    {
      "cell_type": "code",
      "execution_count": null,
      "metadata": {
        "id": "gEgbCJvMJgKm"
      },
      "outputs": [],
      "source": [
        "score = model.evaluate(x_test,y_test,verbose=0)\n",
        "print('Test Loss : {:.4f}'.format(score[0]))\n",
        "print('Test accuracy : {:.4f}'.format(score[1]))"
      ]
    },
    {
      "cell_type": "code",
      "execution_count": null,
      "metadata": {
        "id": "fTyHlSfHJiAQ"
      },
      "outputs": [],
      "source": [
        "predicted_prob = model.predict(x_test)\n",
        "predicted_classes = np.argmax(predicted_prob,axis=1)\n",
        "from sklearn.metrics import classification_report\n",
        "print(classification_report(y_test,predicted_classes,target_names=class_names))"
      ]
    },
    {
      "cell_type": "code",
      "execution_count": null,
      "metadata": {
        "id": "LAI_RlfbJjgZ"
      },
      "outputs": [],
      "source": [
        "fig,axes = plt.subplots(5,5,figsize=(10,10))\n",
        "axes = axes.ravel()\n",
        "for i in range(25):\n",
        "    axes[i].imshow(x_test[i].reshape(28,28))\n",
        "    axes[i].set_title(f\"Predicted = {predicted_classes[i]}\\nOriginal = {y_test[i]}\" )\n",
        "    \n",
        "    axes[i].axis('off')\n",
        "plt.subplots_adjust(hspace=0.5)"
      ]
    }
  ],
  "metadata": {
    "colab": {
      "provenance": []
    },
    "kernelspec": {
      "display_name": "Python 3",
      "name": "python3"
    },
    "language_info": {
      "name": "python"
    }
  },
  "nbformat": 4,
  "nbformat_minor": 0
}